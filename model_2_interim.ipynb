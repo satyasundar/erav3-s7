{
 "cells": [
  {
   "cell_type": "markdown",
   "metadata": {},
   "source": [
    "## Interim Model\n",
    " **[Target, Result, Analysis] at the end**\n",
    "\n"
   ]
  },
  {
   "cell_type": "code",
   "execution_count": 34,
   "metadata": {},
   "outputs": [],
   "source": [
    "from __future__ import print_function\n",
    "import torch\n",
    "import torch.nn as nn\n",
    "import torch.nn.functional as F\n",
    "import torch.optim as optim\n",
    "from torchvision import datasets, transforms\n",
    "from prettytable import PrettyTable"
   ]
  },
  {
   "cell_type": "code",
   "execution_count": 35,
   "metadata": {},
   "outputs": [],
   "source": [
    "# Train Phase transformations\n",
    "train_transforms = transforms.Compose([\n",
    "                                      #  transforms.Resize((28, 28)),\n",
    "                                      #  transforms.ColorJitter(brightness=0.10, contrast=0.1, saturation=0.10, hue=0.1),\n",
    "                                       # transforms.RandomRotation((-7.0, 7.0), fill=(1,)),\n",
    "                                       transforms.RandomRotation((-7.0, 7.0), fill=(1,)),\n",
    "                                       transforms.ToTensor(),\n",
    "                                       transforms.Normalize((0.1307,), (0.3081,)) # The mean and std have to be sequences (e.g., tuples), therefore you should add a comma after the values.\n",
    "                                       # Note the difference between (0.1307) and (0.1307,)\n",
    "                                       ])\n",
    "\n",
    "# Test Phase transformations\n",
    "test_transforms = transforms.Compose([\n",
    "                                      #  transforms.Resize((28, 28)),\n",
    "                                      #  transforms.ColorJitter(brightness=0.10, contrast=0.1, saturation=0.10, hue=0.1),\n",
    "                                       transforms.ToTensor(),\n",
    "                                       transforms.Normalize((0.1307,), (0.3081,))\n",
    "                                       ])\n"
   ]
  },
  {
   "cell_type": "code",
   "execution_count": 36,
   "metadata": {},
   "outputs": [],
   "source": [
    "train = datasets.MNIST('./data', train=True, download=True, transform=train_transforms)\n",
    "test = datasets.MNIST('./data', train=False, download=True, transform=test_transforms)"
   ]
  },
  {
   "cell_type": "code",
   "execution_count": 37,
   "metadata": {},
   "outputs": [
    {
     "name": "stdout",
     "output_type": "stream",
     "text": [
      "GPU Available? mps\n"
     ]
    }
   ],
   "source": [
    "SEED = 1\n",
    "\n",
    "# CUDA?\n",
    "device = torch.device(\"mps\" if torch.backends.mps.is_available() else \"cuda\" if torch.cuda.is_available() else \"cpu\")\n",
    "cuda = torch.cuda.is_available()\n",
    "print(\"GPU Available?\", device)\n",
    "\n",
    "# For reproducibility\n",
    "torch.manual_seed(SEED)\n",
    "\n",
    "if device == \"cuda\":\n",
    "    torch.cuda.manual_seed(SEED)\n",
    "elif device == \"mps\":\n",
    "    torch.manual_seed(SEED)\n",
    "\n",
    "# dataloader arguments - something you'll fetch these from cmdprmt\n",
    "dataloader_args = dict(shuffle=True, batch_size=128, num_workers=4, pin_memory=True) if device else dict(shuffle=True, batch_size=64)\n",
    "\n",
    "# train dataloader\n",
    "train_loader = torch.utils.data.DataLoader(train, **dataloader_args)\n",
    "\n",
    "# test dataloader\n",
    "test_loader = torch.utils.data.DataLoader(test, **dataloader_args)\n",
    "\n",
    "# Pretty table for collecting all the accuracy and loss parameters in a table\n",
    "log_table = PrettyTable()"
   ]
  },
  {
   "cell_type": "code",
   "execution_count": 39,
   "metadata": {},
   "outputs": [],
   "source": [
    "dropout_value = 0.01\n",
    "class Net(nn.Module):\n",
    "    def __init__(self):\n",
    "        super(Net, self).__init__()\n",
    "        # Input Block\n",
    "        self.convblock1 = nn.Sequential(\n",
    "            nn.Conv2d(in_channels=1, out_channels=8, kernel_size=(3, 3), padding=0, bias=False),\n",
    "            nn.ReLU(),\n",
    "            nn.BatchNorm2d(8),\n",
    "            nn.Dropout(dropout_value)\n",
    "        ) # output_size = 26\n",
    "\n",
    "        # CONVOLUTION BLOCK 1\n",
    "        self.convblock2 = nn.Sequential(\n",
    "            nn.Conv2d(in_channels=8, out_channels=16, kernel_size=(3, 3), padding=0, bias=False),\n",
    "            nn.ReLU(),\n",
    "            nn.BatchNorm2d(16),\n",
    "            nn.Dropout(dropout_value)\n",
    "        ) # output_size = 24\n",
    "\n",
    "         # TRANSITION BLOCK 1\n",
    "        self.pool1 = nn.MaxPool2d(2, 2) # output_size = 12\n",
    "        self.convblock3 = nn.Sequential(\n",
    "            nn.Conv2d(in_channels=16, out_channels=8, kernel_size=(1, 1), padding=0, bias=False),\n",
    "            nn.ReLU()\n",
    "        ) # output_size = 12\n",
    "\n",
    "        # CONVOLUTION BLOCK 2\n",
    "        self.convblock4 = nn.Sequential(\n",
    "            nn.Conv2d(in_channels=8, out_channels=12, kernel_size=(3, 3), padding=0, bias=False),\n",
    "            nn.ReLU(),\n",
    "            nn.BatchNorm2d(12),\n",
    "            nn.Dropout(dropout_value)\n",
    "        ) # output_size = 10\n",
    "\n",
    "        self.convblock5 = nn.Sequential(\n",
    "            nn.Conv2d(in_channels=12, out_channels=12, kernel_size=(3, 3), padding=0, bias=False),\n",
    "            nn.ReLU(),\n",
    "            nn.BatchNorm2d(12),\n",
    "            nn.Dropout(dropout_value)\n",
    "        ) # output_size = 8\n",
    "\n",
    "        self.convblock6 = nn.Sequential(\n",
    "            nn.Conv2d(in_channels=12, out_channels=16, kernel_size=(3, 3), padding=0, bias=False),\n",
    "            nn.ReLU(),\n",
    "            nn.BatchNorm2d(16),\n",
    "            nn.Dropout(dropout_value)\n",
    "        ) # output_size = 6\n",
    "\n",
    "        # OUTPUT BLOCK\n",
    "        self.convblock7 = nn.Sequential(\n",
    "            nn.Conv2d(in_channels=16, out_channels=16, kernel_size=(3, 3), padding=1, bias=False),\n",
    "            nn.ReLU(),\n",
    "            nn.BatchNorm2d(16),\n",
    "            nn.Dropout(dropout_value)\n",
    "        ) # output_size = 6\n",
    "\n",
    "        self.gap = nn.Sequential(\n",
    "            nn.AvgPool2d(kernel_size=6) # 7>> 9... nn.AdaptiveAvgPool((1, 1))\n",
    "        ) # output_size = 1\n",
    "\n",
    "        self.convblock8 = nn.Sequential(\n",
    "            \n",
    "            nn.Conv2d(in_channels=16, out_channels=10, kernel_size=(1, 1), padding=0, bias=False),\n",
    "            # nn.BatchNorm2d(10), NEVER\n",
    "            # nn.ReLU() NEVER!\n",
    "        ) # output_size = 1\n",
    "\n",
    "\n",
    "    def forward(self, x):\n",
    "        x = self.convblock1(x)\n",
    "        x = self.convblock2(x)\n",
    "\n",
    "        x = self.pool1(x)\n",
    "        x = self.convblock3(x) #transition\n",
    "\n",
    "        x = self.convblock4(x)\n",
    "        x = self.convblock5(x)\n",
    "        x = self.convblock6(x)\n",
    "        x = self.convblock7(x) #padding=1\n",
    "\n",
    "        x = self.gap(x)\n",
    "        x = self.convblock8(x) #transition\n",
    "        x = x.view(-1, 10)\n",
    "        return F.log_softmax(x, dim=-1)"
   ]
  },
  {
   "cell_type": "code",
   "execution_count": 40,
   "metadata": {},
   "outputs": [
    {
     "name": "stdout",
     "output_type": "stream",
     "text": [
      "cpu\n",
      "----------------------------------------------------------------\n",
      "        Layer (type)               Output Shape         Param #\n",
      "================================================================\n",
      "            Conv2d-1            [-1, 8, 26, 26]              72\n",
      "              ReLU-2            [-1, 8, 26, 26]               0\n",
      "       BatchNorm2d-3            [-1, 8, 26, 26]              16\n",
      "           Dropout-4            [-1, 8, 26, 26]               0\n",
      "            Conv2d-5           [-1, 16, 24, 24]           1,152\n",
      "              ReLU-6           [-1, 16, 24, 24]               0\n",
      "       BatchNorm2d-7           [-1, 16, 24, 24]              32\n",
      "           Dropout-8           [-1, 16, 24, 24]               0\n",
      "         MaxPool2d-9           [-1, 16, 12, 12]               0\n",
      "           Conv2d-10            [-1, 8, 12, 12]             128\n",
      "             ReLU-11            [-1, 8, 12, 12]               0\n",
      "           Conv2d-12           [-1, 12, 10, 10]             864\n",
      "             ReLU-13           [-1, 12, 10, 10]               0\n",
      "      BatchNorm2d-14           [-1, 12, 10, 10]              24\n",
      "          Dropout-15           [-1, 12, 10, 10]               0\n",
      "           Conv2d-16             [-1, 12, 8, 8]           1,296\n",
      "             ReLU-17             [-1, 12, 8, 8]               0\n",
      "      BatchNorm2d-18             [-1, 12, 8, 8]              24\n",
      "          Dropout-19             [-1, 12, 8, 8]               0\n",
      "           Conv2d-20             [-1, 16, 6, 6]           1,728\n",
      "             ReLU-21             [-1, 16, 6, 6]               0\n",
      "      BatchNorm2d-22             [-1, 16, 6, 6]              32\n",
      "          Dropout-23             [-1, 16, 6, 6]               0\n",
      "           Conv2d-24             [-1, 16, 6, 6]           2,304\n",
      "             ReLU-25             [-1, 16, 6, 6]               0\n",
      "      BatchNorm2d-26             [-1, 16, 6, 6]              32\n",
      "          Dropout-27             [-1, 16, 6, 6]               0\n",
      "        AvgPool2d-28             [-1, 16, 1, 1]               0\n",
      "           Conv2d-29             [-1, 10, 1, 1]             160\n",
      "================================================================\n",
      "Total params: 7,864\n",
      "Trainable params: 7,864\n",
      "Non-trainable params: 0\n",
      "----------------------------------------------------------------\n",
      "Input size (MB): 0.00\n",
      "Forward/backward pass size (MB): 0.58\n",
      "Params size (MB): 0.03\n",
      "Estimated Total Size (MB): 0.61\n",
      "----------------------------------------------------------------\n"
     ]
    }
   ],
   "source": [
    "from torchsummary import summary\n",
    "use_cuda = torch.cuda.is_available()\n",
    "cuda = torch.device(\"cuda\" if use_cuda else \"cpu\")\n",
    "print(cuda)\n",
    "model = Net().to(cuda)\n",
    "summary(model, input_size=(1, 28, 28))"
   ]
  },
  {
   "cell_type": "code",
   "execution_count": 41,
   "metadata": {},
   "outputs": [],
   "source": [
    "from tqdm import tqdm\n",
    "\n",
    "train_losses = []\n",
    "test_losses = []\n",
    "train_acc = []\n",
    "test_acc = []\n",
    "\n",
    "def train(model, device, train_loader, optimizer, epoch):\n",
    "  model.train()\n",
    "  pbar = tqdm(train_loader)\n",
    "  correct = 0\n",
    "  processed = 0\n",
    "  for batch_idx, (data, target) in enumerate(pbar):\n",
    "    # get samples\n",
    "    data, target = data.to(device), target.to(device)\n",
    "\n",
    "    # Init\n",
    "    optimizer.zero_grad()\n",
    "    # In PyTorch, we need to set the gradients to zero before starting to do backpropragation because PyTorch accumulates the gradients on subsequent backward passes.\n",
    "    # Because of this, when you start your training loop, ideally you should zero out the gradients so that you do the parameter update correctly.\n",
    "\n",
    "    # Predict\n",
    "    y_pred = model(data)\n",
    "\n",
    "    # Calculate loss\n",
    "    loss = F.nll_loss(y_pred, target)\n",
    "    train_losses.append(loss)\n",
    "\n",
    "    # Backpropagation\n",
    "    loss.backward()\n",
    "    optimizer.step()\n",
    "\n",
    "    # Update pbar-tqdm\n",
    "\n",
    "    pred = y_pred.argmax(dim=1, keepdim=True)  # get the index of the max log-probability\n",
    "    correct += pred.eq(target.view_as(pred)).sum().item()\n",
    "    processed += len(data)\n",
    "\n",
    "    pbar.set_description(desc= f'Loss={loss.item()} Batch_id={batch_idx} Accuracy={100*correct/processed:0.2f}')\n",
    "    train_acc.append(100*correct/processed)\n",
    "\n",
    "def test(model, device, test_loader):\n",
    "    model.eval()\n",
    "    test_loss = 0\n",
    "    correct = 0\n",
    "    with torch.no_grad():\n",
    "        for data, target in test_loader:\n",
    "            data, target = data.to(device), target.to(device)\n",
    "            output = model(data)\n",
    "            test_loss += F.nll_loss(output, target, reduction='sum').item()  # sum up batch loss\n",
    "            pred = output.argmax(dim=1, keepdim=True)  # get the index of the max log-probability\n",
    "            correct += pred.eq(target.view_as(pred)).sum().item()\n",
    "\n",
    "    test_loss /= len(test_loader.dataset)\n",
    "    test_losses.append(test_loss)\n",
    "\n",
    "    print('\\nTest set: Average loss: {:.4f}, Accuracy: {}/{} ({:.2f}%)\\n'.format(\n",
    "        test_loss, correct, len(test_loader.dataset),\n",
    "        100. * correct / len(test_loader.dataset)))\n",
    "\n",
    "    test_acc.append(100. * correct / len(test_loader.dataset))"
   ]
  },
  {
   "cell_type": "code",
   "execution_count": 42,
   "metadata": {},
   "outputs": [
    {
     "name": "stdout",
     "output_type": "stream",
     "text": [
      "model running on:  mps\n",
      "EPOCH: 0\n"
     ]
    },
    {
     "name": "stderr",
     "output_type": "stream",
     "text": [
      "Loss=0.12591548264026642 Batch_id=468 Accuracy=88.16: 100%|██████████| 469/469 [00:08<00:00, 53.68it/s] \n"
     ]
    },
    {
     "name": "stdout",
     "output_type": "stream",
     "text": [
      "\n",
      "Test set: Average loss: 0.1030, Accuracy: 9717/10000 (97.17%)\n",
      "\n",
      "EPOCH: 1\n"
     ]
    },
    {
     "name": "stderr",
     "output_type": "stream",
     "text": [
      "Loss=0.06678164005279541 Batch_id=468 Accuracy=97.83: 100%|██████████| 469/469 [00:08<00:00, 55.92it/s] \n"
     ]
    },
    {
     "name": "stdout",
     "output_type": "stream",
     "text": [
      "\n",
      "Test set: Average loss: 0.0510, Accuracy: 9861/10000 (98.61%)\n",
      "\n",
      "EPOCH: 2\n"
     ]
    },
    {
     "name": "stderr",
     "output_type": "stream",
     "text": [
      "Loss=0.018595272675156593 Batch_id=468 Accuracy=98.31: 100%|██████████| 469/469 [00:08<00:00, 55.86it/s]\n"
     ]
    },
    {
     "name": "stdout",
     "output_type": "stream",
     "text": [
      "\n",
      "Test set: Average loss: 0.0499, Accuracy: 9851/10000 (98.51%)\n",
      "\n",
      "EPOCH: 3\n"
     ]
    },
    {
     "name": "stderr",
     "output_type": "stream",
     "text": [
      "Loss=0.06824292987585068 Batch_id=468 Accuracy=98.45: 100%|██████████| 469/469 [00:08<00:00, 55.97it/s] \n"
     ]
    },
    {
     "name": "stdout",
     "output_type": "stream",
     "text": [
      "\n",
      "Test set: Average loss: 0.0353, Accuracy: 9898/10000 (98.98%)\n",
      "\n",
      "EPOCH: 4\n"
     ]
    },
    {
     "name": "stderr",
     "output_type": "stream",
     "text": [
      "Loss=0.013522197492420673 Batch_id=468 Accuracy=98.67: 100%|██████████| 469/469 [00:08<00:00, 56.06it/s]\n"
     ]
    },
    {
     "name": "stdout",
     "output_type": "stream",
     "text": [
      "\n",
      "Test set: Average loss: 0.0356, Accuracy: 9897/10000 (98.97%)\n",
      "\n",
      "EPOCH: 5\n"
     ]
    },
    {
     "name": "stderr",
     "output_type": "stream",
     "text": [
      "Loss=0.03398161381483078 Batch_id=468 Accuracy=98.81: 100%|██████████| 469/469 [00:08<00:00, 56.15it/s] \n"
     ]
    },
    {
     "name": "stdout",
     "output_type": "stream",
     "text": [
      "\n",
      "Test set: Average loss: 0.0280, Accuracy: 9915/10000 (99.15%)\n",
      "\n",
      "EPOCH: 6\n"
     ]
    },
    {
     "name": "stderr",
     "output_type": "stream",
     "text": [
      "Loss=0.011351537890732288 Batch_id=468 Accuracy=98.87: 100%|██████████| 469/469 [00:08<00:00, 56.10it/s] \n"
     ]
    },
    {
     "name": "stdout",
     "output_type": "stream",
     "text": [
      "\n",
      "Test set: Average loss: 0.0302, Accuracy: 9908/10000 (99.08%)\n",
      "\n",
      "EPOCH: 7\n"
     ]
    },
    {
     "name": "stderr",
     "output_type": "stream",
     "text": [
      "Loss=0.027991345152258873 Batch_id=468 Accuracy=98.89: 100%|██████████| 469/469 [00:08<00:00, 55.91it/s] \n"
     ]
    },
    {
     "name": "stdout",
     "output_type": "stream",
     "text": [
      "\n",
      "Test set: Average loss: 0.0341, Accuracy: 9890/10000 (98.90%)\n",
      "\n",
      "EPOCH: 8\n"
     ]
    },
    {
     "name": "stderr",
     "output_type": "stream",
     "text": [
      "Loss=0.08840256929397583 Batch_id=468 Accuracy=99.01: 100%|██████████| 469/469 [00:08<00:00, 55.73it/s]  \n"
     ]
    },
    {
     "name": "stdout",
     "output_type": "stream",
     "text": [
      "\n",
      "Test set: Average loss: 0.0251, Accuracy: 9918/10000 (99.18%)\n",
      "\n",
      "EPOCH: 9\n"
     ]
    },
    {
     "name": "stderr",
     "output_type": "stream",
     "text": [
      "Loss=0.10868331044912338 Batch_id=468 Accuracy=99.07: 100%|██████████| 469/469 [00:08<00:00, 54.38it/s]  \n"
     ]
    },
    {
     "name": "stdout",
     "output_type": "stream",
     "text": [
      "\n",
      "Test set: Average loss: 0.0241, Accuracy: 9925/10000 (99.25%)\n",
      "\n",
      "EPOCH: 10\n"
     ]
    },
    {
     "name": "stderr",
     "output_type": "stream",
     "text": [
      "Loss=0.03663746640086174 Batch_id=468 Accuracy=99.07: 100%|██████████| 469/469 [00:08<00:00, 55.14it/s]  \n"
     ]
    },
    {
     "name": "stdout",
     "output_type": "stream",
     "text": [
      "\n",
      "Test set: Average loss: 0.0246, Accuracy: 9921/10000 (99.21%)\n",
      "\n",
      "EPOCH: 11\n"
     ]
    },
    {
     "name": "stderr",
     "output_type": "stream",
     "text": [
      "Loss=0.008095446974039078 Batch_id=468 Accuracy=99.12: 100%|██████████| 469/469 [00:08<00:00, 55.28it/s] \n"
     ]
    },
    {
     "name": "stdout",
     "output_type": "stream",
     "text": [
      "\n",
      "Test set: Average loss: 0.0212, Accuracy: 9935/10000 (99.35%)\n",
      "\n",
      "EPOCH: 12\n"
     ]
    },
    {
     "name": "stderr",
     "output_type": "stream",
     "text": [
      "Loss=0.0069539896212518215 Batch_id=468 Accuracy=99.19: 100%|██████████| 469/469 [00:08<00:00, 52.40it/s]\n"
     ]
    },
    {
     "name": "stdout",
     "output_type": "stream",
     "text": [
      "\n",
      "Test set: Average loss: 0.0261, Accuracy: 9919/10000 (99.19%)\n",
      "\n",
      "EPOCH: 13\n"
     ]
    },
    {
     "name": "stderr",
     "output_type": "stream",
     "text": [
      "Loss=0.007783832494169474 Batch_id=468 Accuracy=99.18: 100%|██████████| 469/469 [00:08<00:00, 52.86it/s] \n"
     ]
    },
    {
     "name": "stdout",
     "output_type": "stream",
     "text": [
      "\n",
      "Test set: Average loss: 0.0217, Accuracy: 9928/10000 (99.28%)\n",
      "\n",
      "EPOCH: 14\n"
     ]
    },
    {
     "name": "stderr",
     "output_type": "stream",
     "text": [
      "Loss=0.018775930628180504 Batch_id=468 Accuracy=99.24: 100%|██████████| 469/469 [00:08<00:00, 53.98it/s] \n"
     ]
    },
    {
     "name": "stdout",
     "output_type": "stream",
     "text": [
      "\n",
      "Test set: Average loss: 0.0213, Accuracy: 9932/10000 (99.32%)\n",
      "\n",
      "+-------+-------------------+---------------+-------+---------------+-----------+\n",
      "| Epoch | Training Accuracy | Test Accuracy |  Diff | Training Loss | Test Loss |\n",
      "+-------+-------------------+---------------+-------+---------------+-----------+\n",
      "|   0   |       88.16%      |     97.17%    | -9.01 |     0.1259    |   0.1030  |\n",
      "|   1   |       97.83%      |     98.61%    | -0.78 |     0.0668    |   0.0510  |\n",
      "|   2   |       98.31%      |     98.51%    | -0.20 |     0.0186    |   0.0499  |\n",
      "|   3   |       98.45%      |     98.98%    | -0.53 |     0.0682    |   0.0353  |\n",
      "|   4   |       98.67%      |     98.97%    | -0.30 |     0.0135    |   0.0356  |\n",
      "|   5   |       98.81%      |     99.15%    | -0.34 |     0.0340    |   0.0280  |\n",
      "|   6   |       98.87%      |     99.08%    | -0.21 |     0.0114    |   0.0302  |\n",
      "|   7   |       98.89%      |     98.90%    | -0.01 |     0.0280    |   0.0341  |\n",
      "|   8   |       99.01%      |     99.18%    | -0.17 |     0.0884    |   0.0251  |\n",
      "|   9   |       99.07%      |     99.25%    | -0.18 |     0.1087    |   0.0241  |\n",
      "|   10  |       99.07%      |     99.21%    | -0.14 |     0.0366    |   0.0246  |\n",
      "|   11  |       99.12%      |     99.35%    | -0.22 |     0.0081    |   0.0212  |\n",
      "|   12  |       99.19%      |     99.19%    |  0.00 |     0.0070    |   0.0261  |\n",
      "|   13  |       99.18%      |     99.28%    | -0.10 |     0.0078    |   0.0217  |\n",
      "|   14  |       99.24%      |     99.32%    | -0.08 |     0.0188    |   0.0213  |\n",
      "+-------+-------------------+---------------+-------+---------------+-----------+\n"
     ]
    }
   ],
   "source": [
    "print(\"model running on: \", device)\n",
    "log_table = PrettyTable()\n",
    "log_table.field_names = [\"Epoch\", \"Training Accuracy\", \"Test Accuracy\", \"Diff\", \"Training Loss\", \"Test Loss\"]\n",
    "\n",
    "model =  Net().to(device)\n",
    "optimizer = optim.SGD(model.parameters(), lr=0.01, momentum=0.9)\n",
    "\n",
    "EPOCHS = 15\n",
    "for epoch in range(EPOCHS):\n",
    "    print(\"EPOCH:\", epoch)\n",
    "    train(model, device, train_loader, optimizer, epoch)\n",
    "    test(model, device, test_loader)\n",
    "    log_table.add_row([epoch, f\"{train_acc[-1]:.2f}%\", f\"{test_acc[-1]:.2f}%\", f\"{float(train_acc[-1]) - float(test_acc[-1]):.2f}\" ,f\"{train_losses[-1]:.4f}\", f\"{test_losses[-1]:.4f}\"])\n",
    "print(log_table)"
   ]
  },
  {
   "cell_type": "markdown",
   "metadata": {},
   "source": [
    "### TARGET\n",
    "- Here we introduced Batch Normalisation in all the layers except Transition layer and last Output layer"
   ]
  },
  {
   "cell_type": "markdown",
   "metadata": {},
   "source": [
    "### RESULT\n",
    "\n",
    "- After adding **Batch Normalisation**\n",
    "\n",
    "    - Parameters            : **7864**\n",
    "\n",
    "    - Best Train Accuracy   : **99.51%**\n",
    "\n",
    "    - Best Test Accuracy    : **99.31%**\n",
    "---\n",
    "- After adding **Dropout**\n",
    "\n",
    "    - Parameters            : **7864**\n",
    "\n",
    "    - Best Train Accuracy   : **99.42%**\n",
    "\n",
    "    - Best Test Accuracy    : **99.26%**\n",
    "\n",
    "---\n",
    "    \n",
    "\n",
    "- After adding **Image Augmentation**\n",
    "\n",
    "    - Parameters            : **7864**\n",
    "\n",
    "    - Best Train Accuracy   : **99.24%**\n",
    "\n",
    "    - Best Test Accuracy    : **99.35%**"
   ]
  },
  {
   "cell_type": "markdown",
   "metadata": {},
   "source": [
    "### Analysis\n",
    "- **Model Architecture**\n",
    "   \n",
    "    - **Channels** :  1 → 8 → 16 → MaxPool → 16 → (Transition) → 8 → 12 → 12 → 16 → 16 → GAP → 16 → Transition → 10 \n",
    "\n",
    "    - **Receptive Field**\n",
    "\n",
    "        | Block               | Layer      | Input Size | Kernel x Stride | Padding | Input Channel | Output Channel | Output Size | Receptive Field |\n",
    "        | ------------------- | ---------- | ---------- | --------------- | ------- | ------------- | -------------- | ----------- | --------------- |\n",
    "        | Input Block         | Conv1      | 28         | 3 x 1           | 0       | 1             | 8              | 26          | 3               |\n",
    "        | Convolution Block 1 | Conv2      | 26         | 3 x 1           | 0       | 8             | 16             | 24          | 5               |\n",
    "        | Transition Block 1  | Pool1      | 24         | 2 x 2           | 0       | 16            | 16             | 12          | 6               |\n",
    "        | Transition Block 1  | Conv3      | 12         | 1 x 1           | 0       | 16            | 8              | 12          | 6               |\n",
    "        | Convolution Block 2 | Conv4      | 12         | 3 x 1           | 0       | 8             | 12             | 10          | 10              |\n",
    "        | Convolution Block 2 | conv5      | 10         | 3 x 1           | 0       | 12            | 12             | 8           | 14              |\n",
    "        | Convolution Block 2 | Conv6      | 8          | 3 x 1           | 0       | 12            | 16             | 6           | 18              |\n",
    "        | Convolution Block 2 | Conv7      | 6          | 3 x 1           | 1       | 16            | 16             | 6           | 22              |\n",
    "        | Output Block        | GAP        | 6          | 3 x 1           | 0       | 16            | 16             | 1           | 28              |\n",
    "        | Output Block        | Conv8      | 1          | 1 x 1           | 0       | 16            | 10             | 1           | 28              |\n",
    "\n",
    "- **Observation**\n",
    "    - After introducing batch normalisation, the model is fitting very well. \n",
    "\n",
    "    - It has got 99.51% as training accuracy and 99.31% of Test accuracy. Also gap between both accuracy is very narrow.\n",
    "\n",
    "    - This is fairly well but still not achived the required target of 99.4%.\n",
    "\n",
    "    - Since there is little over-fitting, we will introduce some regularisation so that model can generaize the leraning and test accuracy can be improved.\n",
    "    \n",
    "    - We will add little dropout to all the layers.\n",
    "\n",
    "    - **Output After Adding Batch Normalisation**\n",
    "\n",
    "        | Epoch | Training Accuracy | Test Accuracy |  Diff | Training Loss | Test Loss |\n",
    "        |-------|-------------------|---------------|-------|---------------|-----------|\n",
    "        |   0   |       90.57%      |     97.68%    | -7.11 |     0.0925    |   0.0919  |\n",
    "        |   1   |       98.02%      |     98.62%    | -0.60 |     0.0746    |   0.0579  |\n",
    "        |   2   |       98.51%      |     98.46%    |  0.05 |     0.0242    |   0.0543  |\n",
    "        |   3   |       98.73%      |     98.90%    | -0.17 |     0.0423    |   0.0377  |\n",
    "        |   4   |       98.88%      |     99.09%    | -0.21 |     0.0822    |   0.0332  |\n",
    "        |   5   |       99.01%      |     99.02%    | -0.01 |     0.0117    |   0.0344  |\n",
    "        |   6   |       99.10%      |     98.94%    |  0.16 |     0.0707    |   0.0347  |\n",
    "        |   7   |       99.20%      |     99.08%    |  0.12 |     0.0288    |   0.0302  |\n",
    "        |   8   |       99.21%      |     98.86%    |  0.35 |     0.0418    |   0.0371  |\n",
    "        |   9   |       99.28%      |     99.22%    |  0.06 |     0.0269    |   0.0278  |\n",
    "        |   10  |       99.34%      |     99.15%    |  0.19 |     0.0099    |   0.0264  |\n",
    "        |   11  |       99.38%      |     99.30%    |  0.08 |     0.0170    |   0.0239  |\n",
    "        |   12  |       99.37%      |     99.12%    |  0.25 |     0.0027    |   0.0278  |\n",
    "        |   13  |       99.39%      |     99.31%    |  0.08 |     0.0268    |   0.0255  |\n",
    "        |   14  |       99.51%      |     99.27%    |  0.24 |     0.0292    |   0.0261  |\n",
    "\n",
    "    ***\n",
    "\n",
    "    \n",
    "\n",
    "    - Even after adding **dropout** training is happening more robustly. Regularisation is going well. But the accuracy didn;t improve much. \n",
    "\n",
    "    - Lets add augmentation techniques to make the training more robust.\n",
    "\n",
    "\n",
    "    - **Output after Adding Dropout**\n",
    "\n",
    "        | Epoch | Training Accuracy | Test Accuracy |  Diff | Training Loss | Test Loss |\n",
    "        |-------|-------------------|---------------|-------|---------------|-----------|\n",
    "        |   0   |       88.25%      |     97.53%    | -9.28 |     0.0970    |   0.0918  |\n",
    "        |   1   |       98.10%      |     98.55%    | -0.45 |     0.0282    |   0.0499  |\n",
    "        |   2   |       98.61%      |     98.86%    | -0.25 |     0.0223    |   0.0432  |\n",
    "        |   3   |       98.76%      |     98.95%    | -0.19 |     0.0269    |   0.0373  |\n",
    "        |   4   |       98.86%      |     99.16%    | -0.30 |     0.0650    |   0.0289  |\n",
    "        |   5   |       98.99%      |     98.96%    |  0.03 |     0.0113    |   0.0332  |\n",
    "        |   6   |       99.08%      |     99.07%    |  0.01 |     0.0730    |   0.0330  |\n",
    "        |   7   |       99.11%      |     99.18%    | -0.07 |     0.0026    |   0.0269  |\n",
    "        |   8   |       99.18%      |     99.00%    |  0.18 |     0.0124    |   0.0313  |\n",
    "        |   9   |       99.20%      |     99.13%    |  0.07 |     0.0496    |   0.0285  |\n",
    "        |   10  |       99.26%      |     99.21%    |  0.05 |     0.0219    |   0.0259  |\n",
    "        |   11  |       99.32%      |     99.21%    |  0.11 |     0.0503    |   0.0263  |\n",
    "        |   12  |       99.34%      |     99.07%    |  0.27 |     0.0027    |   0.0302  |\n",
    "        |   13  |       99.42%      |     99.19%    |  0.23 |     0.0011    |   0.0239  |\n",
    "        |   14  |       99.37%      |     99.26%    |  0.11 |     0.0339    |   0.0279  |\n",
    "\n",
    "\n",
    "    ***\n",
    "\n",
    "    - After adding **image augmentaion** in training dataset, Test accuracy increased a little more. \n",
    "\n",
    "    - It achived test accuracy of 99.35%.\n",
    "\n",
    "    - But one observation is the accuracy is fluctuating between values. Hence step scheduler can help.\n",
    "\n",
    "\n",
    "        | Epoch | Training Accuracy | Test Accuracy |  Diff | Training Loss | Test Loss |\n",
    "        |-------|-------------------|---------------|-------|---------------|-----------|\n",
    "        |   0   |       88.16%      |     97.17%    | -9.01 |     0.1259    |   0.1030  |\n",
    "        |   1   |       97.83%      |     98.61%    | -0.78 |     0.0668    |   0.0510  |\n",
    "        |   2   |       98.31%      |     98.51%    | -0.20 |     0.0186    |   0.0499  |\n",
    "        |   3   |       98.45%      |     98.98%    | -0.53 |     0.0682    |   0.0353  |\n",
    "        |   4   |       98.67%      |     98.97%    | -0.30 |     0.0135    |   0.0356  |\n",
    "        |   5   |       98.81%      |     99.15%    | -0.34 |     0.0340    |   0.0280  |\n",
    "        |   6   |       98.87%      |     99.08%    | -0.21 |     0.0114    |   0.0302  |\n",
    "        |   7   |       98.89%      |     98.90%    | -0.01 |     0.0280    |   0.0341  |\n",
    "        |   8   |       99.01%      |     99.18%    | -0.17 |     0.0884    |   0.0251  |\n",
    "        |   9   |       99.07%      |     99.25%    | -0.18 |     0.1087    |   0.0241  |\n",
    "        |   10  |       99.07%      |     99.21%    | -0.14 |     0.0366    |   0.0246  |\n",
    "        |   11  |       99.12%      |     99.35%    | -0.22 |     0.0081    |   0.0212  |\n",
    "        |   12  |       99.19%      |     99.19%    |  0.00 |     0.0070    |   0.0261  |\n",
    "        |   13  |       99.18%      |     99.28%    | -0.10 |     0.0078    |   0.0217  |\n",
    "        |   14  |       99.24%      |     99.32%    | -0.08 |     0.0188    |   0.0213  |\n"
   ]
  },
  {
   "cell_type": "markdown",
   "metadata": {},
   "source": []
  }
 ],
 "metadata": {
  "kernelspec": {
   "display_name": "base",
   "language": "python",
   "name": "python3"
  },
  "language_info": {
   "codemirror_mode": {
    "name": "ipython",
    "version": 3
   },
   "file_extension": ".py",
   "mimetype": "text/x-python",
   "name": "python",
   "nbconvert_exporter": "python",
   "pygments_lexer": "ipython3",
   "version": "3.11.7"
  }
 },
 "nbformat": 4,
 "nbformat_minor": 2
}
